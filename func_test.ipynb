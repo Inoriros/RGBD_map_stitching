{
 "cells": [
  {
   "cell_type": "code",
   "execution_count": 5,
   "metadata": {},
   "outputs": [
    {
     "name": "stdout",
     "output_type": "stream",
     "text": [
      "(288000, 6)\n"
     ]
    }
   ],
   "source": [
    "import pypose as pp\n",
    "import numpy as np\n",
    "import open3d as o3d\n",
    "import RGBD2PointCloud as RGBD2PtsCloud\n",
    "\n",
    "rot = [-2.252692580223083496e-01, -8.415460586547851562e-02, -9.180778264999389648e-01, 3.151265680789947510e-01]\n",
    "trans = [-1.284026908874511719e+01, 1.327905941009521484e+01, -8.343176841735839844e+00]\n",
    "x = pp.SE3([-1.284026908874511719e+01, 1.327905941009521484e+01, -8.343176841735839844e+00, -2.252692580223083496e-01, -8.415460586547851562e-02, -9.180778264999389648e-01, 3.151265680789947510e-01])\n",
    "# x = pp.randn_SE3(1)\n",
    "x.matrix()\n",
    "\n",
    "\n",
    "frame = 16\n",
    "rgbd2PtsCloud = RGBD2PtsCloud.RGBD2PtsCloud(int(frame))\n",
    "pcd_dense, pcd_sparse = rgbd2PtsCloud.convert6()\n",
    "pc_xyz = np.array(pcd_dense.points)\n",
    "pc_rgb = np.array(pcd_dense.colors)\n",
    "print(np.concatenate((pc_xyz, pc_rgb), axis=1).shape)"
   ]
  }
 ],
 "metadata": {
  "kernelspec": {
   "display_name": "impe-learning",
   "language": "python",
   "name": "python3"
  },
  "language_info": {
   "codemirror_mode": {
    "name": "ipython",
    "version": 3
   },
   "file_extension": ".py",
   "mimetype": "text/x-python",
   "name": "python",
   "nbconvert_exporter": "python",
   "pygments_lexer": "ipython3",
   "version": "3.9.13"
  }
 },
 "nbformat": 4,
 "nbformat_minor": 2
}
